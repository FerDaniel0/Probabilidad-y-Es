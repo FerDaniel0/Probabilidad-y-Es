{
  "nbformat": 4,
  "nbformat_minor": 0,
  "metadata": {
    "colab": {
      "provenance": [],
      "authorship_tag": "ABX9TyNZF8+MtscCCPZzG4QGhGLi",
      "include_colab_link": true
    },
    "kernelspec": {
      "name": "python3",
      "display_name": "Python 3"
    },
    "language_info": {
      "name": "python"
    }
  },
  "cells": [
    {
      "cell_type": "markdown",
      "metadata": {
        "id": "view-in-github",
        "colab_type": "text"
      },
      "source": [
        "<a href=\"https://colab.research.google.com/github/FerDaniel0/Probabilidad-y-Es/blob/main/Unidad%202/1Trabajo.ipynb\" target=\"_parent\"><img src=\"https://colab.research.google.com/assets/colab-badge.svg\" alt=\"Open In Colab\"/></a>"
      ]
    },
    {
      "cell_type": "markdown",
      "source": [
        "Probabilidad y Estadística\n",
        "Tecno logo.png\n",
        "\n",
        "Unidad 2\n",
        "Práctica 1\n",
        "\n",
        "Grupo: 2Y\n",
        "\n",
        "Alumno: Juan Daniel Simental Mendoza\n",
        "\n",
        "Docente: Dr. José Gabriel Rodríguez Rivas"
      ],
      "metadata": {
        "id": "AGxlKJ5cTh-r"
      }
    },
    {
      "cell_type": "markdown",
      "source": [
        "Ejemplo 1"
      ],
      "metadata": {
        "id": "RWuZ06WETxPb"
      }
    },
    {
      "cell_type": "code",
      "source": [
        "import math as mt #Para utilizar factorial\n",
        "from itertools import combinations\n",
        "from itertools import combinations_with_replacement\n",
        "import numpy as np"
      ],
      "metadata": {
        "id": "GdYO7OvyThKU"
      },
      "execution_count": 1,
      "outputs": []
    },
    {
      "cell_type": "code",
      "execution_count": 2,
      "metadata": {
        "colab": {
          "base_uri": "https://localhost:8080/"
        },
        "id": "xHCsdLivSPzV",
        "outputId": "ffe48e1a-d3c1-4129-c7f6-7997633cdaa0"
      },
      "outputs": [
        {
          "output_type": "stream",
          "name": "stdout",
          "text": [
            "Existen  45.0  posibles combinaciones sin repetición del total  de  10  nombres   en grupos de 2  en  2\n",
            "Aquií las combinaciones\n",
            "('Oscar', 'Paco')\n",
            "('Oscar', 'Paty')\n",
            "('Oscar', 'Laura')\n",
            "('Oscar', 'Rubén')\n",
            "('Oscar', 'Luis')\n",
            "('Oscar', 'Lucy')\n",
            "('Oscar', 'Alberto')\n",
            "('Oscar', 'Juan')\n",
            "('Oscar', 'Danny')\n",
            "('Paco', 'Paty')\n",
            "('Paco', 'Laura')\n",
            "('Paco', 'Rubén')\n",
            "('Paco', 'Luis')\n",
            "('Paco', 'Lucy')\n",
            "('Paco', 'Alberto')\n",
            "('Paco', 'Juan')\n",
            "('Paco', 'Danny')\n",
            "('Paty', 'Laura')\n",
            "('Paty', 'Rubén')\n",
            "('Paty', 'Luis')\n",
            "('Paty', 'Lucy')\n",
            "('Paty', 'Alberto')\n",
            "('Paty', 'Juan')\n",
            "('Paty', 'Danny')\n",
            "('Laura', 'Rubén')\n",
            "('Laura', 'Luis')\n",
            "('Laura', 'Lucy')\n",
            "('Laura', 'Alberto')\n",
            "('Laura', 'Juan')\n",
            "('Laura', 'Danny')\n",
            "('Rubén', 'Luis')\n",
            "('Rubén', 'Lucy')\n",
            "('Rubén', 'Alberto')\n",
            "('Rubén', 'Juan')\n",
            "('Rubén', 'Danny')\n",
            "('Luis', 'Lucy')\n",
            "('Luis', 'Alberto')\n",
            "('Luis', 'Juan')\n",
            "('Luis', 'Danny')\n",
            "('Lucy', 'Alberto')\n",
            "('Lucy', 'Juan')\n",
            "('Lucy', 'Danny')\n",
            "('Alberto', 'Juan')\n",
            "('Alberto', 'Danny')\n",
            "('Juan', 'Danny')\n"
          ]
        }
      ],
      "source": [
        "nombres  = [\"Oscar\", \"Paco\", \"Paty\", \"Laura\", \"Rubén\", \"Luis\", \"Lucy\", \"Alberto\", \"Juan\", \"Danny\"]\n",
        "n = len(nombres)\n",
        "r = 2 # ¿Como agrupar?\n",
        "Cn = mt.factorial(n) / (mt.factorial(r) * mt.factorial(n - r))\n",
        "print(\"Existen \", Cn, \" posibles combinaciones sin repetición del total  de \", n, \" nombres \", \" en grupos de\", r, \" en \", r)\n",
        "print(\"Aquií las combinaciones\")\n",
        "combinacionesNombres = list(combinations(nombres, r))\n",
        "# Imprime las combinaciones\n",
        "for combinacion in combinacionesNombres:\n",
        "    print(combinacion)"
      ]
    },
    {
      "cell_type": "markdown",
      "source": [
        "Ejemplo 2"
      ],
      "metadata": {
        "id": "qVu8DcSwUFWi"
      }
    },
    {
      "cell_type": "code",
      "source": [
        "caracteres = [\"A\", \"B\", \"C\", \"D\", \"E\", \"F\", \"0\", \"1\", \"2\", \"3\", \"4\", \"5\"]\n",
        "n = len(caracteres)\n",
        "r = 10 #¿Cómo agrupar?\n",
        "Cn = mt.factorial(n) / (mt.factorial(r) * mt.factorial(n - r))\n",
        "print(\"Existen \", Cn, \" posibles combinaciones sin repetición del total  de \", n, \" caracteres \", \" en grupos de\", r, \" en \", r)\n",
        "print(\"Aquií las combinaciones\")\n",
        "combinacionesCaracteres = list(combinations(caracteres, r))\n",
        "# Imprime las combinaciones\n",
        "for combinacion in combinacionesCaracteres:\n",
        "    print(combinacion)"
      ],
      "metadata": {
        "id": "mvxLTaQ9UCbY"
      },
      "execution_count": null,
      "outputs": []
    },
    {
      "cell_type": "markdown",
      "source": [
        "Ejemplo 3"
      ],
      "metadata": {
        "id": "xUC0UpECUNbT"
      }
    },
    {
      "cell_type": "code",
      "source": [
        "dado = [1, 2, 3, 4, 5, 6]\n",
        "n = len(dado)\n",
        "r = 2 #¿Cómo agrupar?, de dos en dos porque hay dos dados\n",
        "\n",
        "CnR = mt.factorial(n + r - 1) / (mt.factorial(r) * mt.factorial((n + r - 1) - r))\n",
        "print(\"Existen \", CnR, \" posibles combinaciones con repetición del total  de \", n, \" dados \", \" en grupos de\", r, \" en \", r)\n",
        "print(\"Aquií las combinaciones con repetición de dos dados\")\n",
        "\n",
        "#Definir el conjunto de elementos\n",
        "elementos = [1, 2, 3, 4, 5, 6]\n",
        "\n",
        "#Número de elementos a elegor en cada combinación\n",
        "r = 2\n",
        "\n",
        "#Calcular las combinaciones con repetición\n",
        "combinacionesDados = list(combinations_with_replacement(dado, r))\n",
        "\n",
        "#Imprimir las combinaciones\n",
        "for combinacion in combinacionesDados:\n",
        "    print(combinacion)"
      ],
      "metadata": {
        "colab": {
          "base_uri": "https://localhost:8080/"
        },
        "id": "J8uGvaCWUQYl",
        "outputId": "e1f68404-3d11-4781-d164-f44d508f2a56"
      },
      "execution_count": 3,
      "outputs": [
        {
          "output_type": "stream",
          "name": "stdout",
          "text": [
            "Existen  21.0  posibles combinaciones con repetición del total  de  6  dados   en grupos de 2  en  2\n",
            "Aquií las combinaciones con repetición de dos dados\n",
            "(1, 1)\n",
            "(1, 2)\n",
            "(1, 3)\n",
            "(1, 4)\n",
            "(1, 5)\n",
            "(1, 6)\n",
            "(2, 2)\n",
            "(2, 3)\n",
            "(2, 4)\n",
            "(2, 5)\n",
            "(2, 6)\n",
            "(3, 3)\n",
            "(3, 4)\n",
            "(3, 5)\n",
            "(3, 6)\n",
            "(4, 4)\n",
            "(4, 5)\n",
            "(4, 6)\n",
            "(5, 5)\n",
            "(5, 6)\n",
            "(6, 6)\n"
          ]
        }
      ]
    }
  ]
}