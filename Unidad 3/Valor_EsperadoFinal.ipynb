{
  "nbformat": 4,
  "nbformat_minor": 0,
  "metadata": {
    "colab": {
      "provenance": [],
      "authorship_tag": "ABX9TyPkmVF2tKSnevGFwVflJyg4",
      "include_colab_link": true
    },
    "kernelspec": {
      "name": "python3",
      "display_name": "Python 3"
    },
    "language_info": {
      "name": "python"
    }
  },
  "cells": [
    {
      "cell_type": "markdown",
      "metadata": {
        "id": "view-in-github",
        "colab_type": "text"
      },
      "source": [
        "<a href=\"https://colab.research.google.com/github/FerDaniel0/Probabilidad-y-Es/blob/main/Unidad%203/Valor_EsperadoFinal.ipynb\" target=\"_parent\"><img src=\"https://colab.research.google.com/assets/colab-badge.svg\" alt=\"Open In Colab\"/></a>"
      ]
    },
    {
      "cell_type": "markdown",
      "source": [
        "# Probabilidad Y estadistica Ejercicios de Valor Esperado Trabajo Final\n",
        "*Unidad 3*\n",
        "\n",
        "*Alumno Juan Daniel Simenta Mendoza*\n",
        "\n",
        "*Faciilitador Dr. Jose Gabriel Rodrigues Rivas*"
      ],
      "metadata": {
        "id": "HisLzRLfuVoh"
      }
    },
    {
      "cell_type": "code",
      "execution_count": 8,
      "metadata": {
        "id": "LUf_1WTquQyo"
      },
      "outputs": [],
      "source": [
        "import numpy as np\n",
        "from scipy.stats import binom"
      ]
    },
    {
      "cell_type": "markdown",
      "source": [
        "# Primer ejercicio segunda parte Valor Esperado : Torneo de póker"
      ],
      "metadata": {
        "id": "FlevWAomvGTI"
      }
    },
    {
      "cell_type": "code",
      "source": [
        "\n",
        "X = np.array([490000, -10000])\n",
        "\n",
        "P = np.array([0.005, 0.995])\n",
        "\n",
        "valor_esperado = np.sum(X * P)\n",
        "\n",
        "print(f\"El valor esperado es: {valor_esperado} mil dólares\")"
      ],
      "metadata": {
        "colab": {
          "base_uri": "https://localhost:8080/"
        },
        "id": "6d2HNtXiu-1g",
        "outputId": "e3379803-3d48-4831-c3d1-40c49b34f71f"
      },
      "execution_count": 9,
      "outputs": [
        {
          "output_type": "stream",
          "name": "stdout",
          "text": [
            "El valor esperado es: -7500.0 mil dólares\n"
          ]
        }
      ]
    },
    {
      "cell_type": "markdown",
      "source": [
        "# Primer ejercicio segunda parte Valor Esperado :Viaje en tren de Alice"
      ],
      "metadata": {
        "id": "FZLBcQXL2mBz"
      }
    },
    {
      "cell_type": "code",
      "source": [
        "\n",
        "X = np.array([5, 305])\n",
        "\n",
        "P = np.array([0.95, 0.05])\n",
        "\n",
        "costo_esperado = np.sum(X * P)\n",
        "\n",
        "print(f\"El costo total esperado del viaje es: {costo_esperado} euros\")\n"
      ],
      "metadata": {
        "colab": {
          "base_uri": "https://localhost:8080/"
        },
        "id": "ybFpgCzE2z4n",
        "outputId": "e8beb487-4224-42a0-d13a-60273eae9195"
      },
      "execution_count": 10,
      "outputs": [
        {
          "output_type": "stream",
          "name": "stdout",
          "text": [
            "El costo total esperado del viaje es: 20.0 euros\n"
          ]
        }
      ]
    },
    {
      "cell_type": "markdown",
      "source": [
        "# Primer ejercicio segunda parte Valor Esperado :Dado justo de 6 caras"
      ],
      "metadata": {
        "id": "b1xHGW_Y29r7"
      }
    },
    {
      "cell_type": "code",
      "source": [
        "\n",
        "valores = np.array([1, 2, 3, 4, 5, 6])\n",
        "\n",
        "probabilidades = np.full(6, 1/6)\n",
        "\n",
        "valor_esperado = np.sum(valores * probabilidades)\n",
        "\n",
        "\n",
        "print(\"El valor esperado del dado es:\", valor_esperado)"
      ],
      "metadata": {
        "colab": {
          "base_uri": "https://localhost:8080/"
        },
        "id": "6AkyRE0s286m",
        "outputId": "1e43cab8-b41d-4db5-e4d5-7ec3a9e71815"
      },
      "execution_count": 11,
      "outputs": [
        {
          "output_type": "stream",
          "name": "stdout",
          "text": [
            "El valor esperado del dado es: 3.5\n"
          ]
        }
      ]
    },
    {
      "cell_type": "code",
      "source": [
        "\n",
        "print(\"¿El número 4 tiene más probabilidad que el 6?\", 1/6 > 1/6)\n",
        "\n",
        "\n",
        "print(\"¿3.5 puede ser un resultado?\", 3.5 in valores)\n",
        "\n",
        "simulaciones = np.random.choice(valores, size=100000)\n",
        "promedio = np.mean(simulaciones)\n",
        "print(\"Promedio de muchos lanzamientos:\", promedio)"
      ],
      "metadata": {
        "colab": {
          "base_uri": "https://localhost:8080/"
        },
        "id": "DGhDmxaA3TCv",
        "outputId": "34c7f5e6-b645-4708-92a0-47a685975aab"
      },
      "execution_count": 12,
      "outputs": [
        {
          "output_type": "stream",
          "name": "stdout",
          "text": [
            "¿El número 4 tiene más probabilidad que el 6? False\n",
            "¿3.5 puede ser un resultado? False\n",
            "Promedio de muchos lanzamientos: 3.50546\n"
          ]
        }
      ]
    },
    {
      "cell_type": "markdown",
      "source": [
        "# Primer ejercicio segunda parte Valor Esperado :Apuesta de Ivy"
      ],
      "metadata": {
        "id": "3vOstefe3aiU"
      }
    },
    {
      "cell_type": "code",
      "source": [
        "\n",
        "ganancia_dragones = 10\n",
        "perdida_tortugas = -11\n",
        "prob_ganar = 0.5\n",
        "prob_perder = 0.5\n",
        "\n",
        "\n",
        "valor_esperado = (ganancia_dragones * prob_ganar) + (perdida_tortugas * prob_perder)\n",
        "\n",
        "\n",
        "print(\"El valor esperado de la apuesta es:\", valor_esperado, \"Dólares\")\n",
        ""
      ],
      "metadata": {
        "colab": {
          "base_uri": "https://localhost:8080/"
        },
        "id": "GMs1EaKU3mX_",
        "outputId": "dc107675-c210-4b61-816f-307bba13791d"
      },
      "execution_count": 13,
      "outputs": [
        {
          "output_type": "stream",
          "name": "stdout",
          "text": [
            "El valor esperado de la apuesta es: -0.5 Dólares\n"
          ]
        }
      ]
    }
  ]
}