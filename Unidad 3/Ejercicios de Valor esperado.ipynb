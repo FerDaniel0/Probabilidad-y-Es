{
  "nbformat": 4,
  "nbformat_minor": 0,
  "metadata": {
    "colab": {
      "provenance": [],
      "authorship_tag": "ABX9TyPMezLXvGUY3A9Dvnbg1TcA",
      "include_colab_link": true
    },
    "kernelspec": {
      "name": "python3",
      "display_name": "Python 3"
    },
    "language_info": {
      "name": "python"
    }
  },
  "cells": [
    {
      "cell_type": "markdown",
      "metadata": {
        "id": "view-in-github",
        "colab_type": "text"
      },
      "source": [
        "<a href=\"https://colab.research.google.com/github/FerDaniel0/Probabilidad-y-Es/blob/main/Unidad%203/Ejercicios%20de%20Valor%20esperado.ipynb\" target=\"_parent\"><img src=\"https://colab.research.google.com/assets/colab-badge.svg\" alt=\"Open In Colab\"/></a>"
      ]
    },
    {
      "cell_type": "markdown",
      "source": [
        "# Probabilidad Y estadistica Ejercicios de Valor esperado\n",
        "*Unidad 3*\n",
        "\n",
        "*Alumno Juan Daniel Simenta Mendoza*\n",
        "\n",
        "*Faciilitador Dr. Jose Gabriel Rodrigues Rivas*\n",
        "\n"
      ],
      "metadata": {
        "id": "1ZIYR5bc_5d2"
      }
    },
    {
      "cell_type": "code",
      "execution_count": 3,
      "metadata": {
        "id": "CdlSLE8e8hig"
      },
      "outputs": [],
      "source": [
        "import numpy as np\n",
        "from scipy.stats import binom"
      ]
    },
    {
      "cell_type": "code",
      "source": [
        "#parametros\n",
        "n=3 #numero de valores\n",
        "p=0.5#probabilidad de obtener solen cada volado (exito)"
      ],
      "metadata": {
        "id": "Zc7uHi_n-JQa"
      },
      "execution_count": 4,
      "outputs": []
    },
    {
      "cell_type": "code",
      "source": [
        "#valores de x\n",
        "x_values=[0,1,2,3]"
      ],
      "metadata": {
        "id": "l1AgqIbU-m0F"
      },
      "execution_count": 5,
      "outputs": []
    },
    {
      "cell_type": "code",
      "source": [
        "#calcular la PMF (Función de Masa De Probailidad) para cada una\n",
        "pmf_values=binom.pmf(x_values,n,p)"
      ],
      "metadata": {
        "id": "8fE-odb2-0Yb"
      },
      "execution_count": 6,
      "outputs": []
    },
    {
      "cell_type": "code",
      "source": [
        "for x, pmf in zip(x_values,pmf_values):\n",
        "    print(f\"P(X={x})={pmf:.3f}\")"
      ],
      "metadata": {
        "colab": {
          "base_uri": "https://localhost:8080/"
        },
        "id": "Ocf5Djt0_Vsm",
        "outputId": "746d5cc8-9430-4c1a-8226-87532d2f9a55"
      },
      "execution_count": 7,
      "outputs": [
        {
          "output_type": "stream",
          "name": "stdout",
          "text": [
            "P(X=0)=0.125\n",
            "P(X=1)=0.375\n",
            "P(X=2)=0.375\n",
            "P(X=3)=0.125\n"
          ]
        }
      ]
    }
  ]
}