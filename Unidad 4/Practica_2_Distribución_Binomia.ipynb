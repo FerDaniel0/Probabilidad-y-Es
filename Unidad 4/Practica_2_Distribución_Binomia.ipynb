{
  "nbformat": 4,
  "nbformat_minor": 0,
  "metadata": {
    "colab": {
      "provenance": [],
      "authorship_tag": "ABX9TyOxS0o5Xpzy/kFr/ECB5ebU",
      "include_colab_link": true
    },
    "kernelspec": {
      "name": "python3",
      "display_name": "Python 3"
    },
    "language_info": {
      "name": "python"
    }
  },
  "cells": [
    {
      "cell_type": "markdown",
      "metadata": {
        "id": "view-in-github",
        "colab_type": "text"
      },
      "source": [
        "<a href=\"https://colab.research.google.com/github/FerDaniel0/Probabilidad-y-Es/blob/main/Unidad%204/Practica_2_Distribuci%C3%B3n_Binomia.ipynb\" target=\"_parent\"><img src=\"https://colab.research.google.com/assets/colab-badge.svg\" alt=\"Open In Colab\"/></a>"
      ]
    },
    {
      "cell_type": "markdown",
      "source": [
        "# Probabilidad Y estadistica:Distribuciones\n",
        "*Unidad 4*\n",
        "\n",
        "*Alumno Juan Daniel Simenta Mendoza*\n",
        "\n",
        "*Faciilitador Dr. Jose Gabriel Rodrigues Rivas*\n",
        "\n"
      ],
      "metadata": {
        "id": "xMInoDhVv54e"
      }
    },
    {
      "cell_type": "markdown",
      "source": [
        "Practica 2: Distribución Binomial."
      ],
      "metadata": {
        "id": "9ZHbnX8gw3-Q"
      }
    },
    {
      "cell_type": "code",
      "source": [
        "import numpy as np\n",
        "import matplotlib.pyplot as plt\n",
        "import scipy.stats as stats"
      ],
      "metadata": {
        "id": "o3PUFB_zv5oA"
      },
      "execution_count": 1,
      "outputs": []
    },
    {
      "cell_type": "code",
      "source": [
        "from scipy.stats import binom\n",
        "\n",
        "# Parámetros de la distribución binomial\n",
        "probabilidad_exito = 0.83\n",
        "num_pacientes = 16\n",
        "X = 16 # Número de exitos\n",
        "\n",
        "# Calcular la probabilidad de que ningún paciente sufran la enfermedad\n",
        "probabilidad_ninguno_enfermos = binom.pmf(X, num_pacientes, probabilidad_exito)\n",
        "\n",
        "print(\"La probabilidad de que ningún paciente sufran la enfermedad es:\" , probabilidad_ninguno_enfermos)"
      ],
      "metadata": {
        "colab": {
          "base_uri": "https://localhost:8080/"
        },
        "id": "AfZNB9-Bv5Wn",
        "outputId": "620dde82-97aa-45a2-f517-12975cb474d6"
      },
      "execution_count": 2,
      "outputs": [
        {
          "output_type": "stream",
          "name": "stdout",
          "text": [
            "La probabilidad de que ningún paciente sufran la enfermedad es: 0.0507282029895386\n"
          ]
        }
      ]
    },
    {
      "cell_type": "code",
      "execution_count": 3,
      "metadata": {
        "colab": {
          "base_uri": "https://localhost:8080/"
        },
        "id": "LIclrvdFv3r3",
        "outputId": "2b53880d-09a5-4799-8329-f323bfa767de"
      },
      "outputs": [
        {
          "output_type": "stream",
          "name": "stdout",
          "text": [
            "La probabilidad de que todos los pacientes sufran la enfermedad es: 4.866119187566701e-13\n"
          ]
        }
      ],
      "source": [
        "from scipy.stats import binom\n",
        "\n",
        "# Parámetros de la distribución binomial\n",
        "probabilidad_exito = 0.83\n",
        "num_pacientes = 16\n",
        "X = 0\n",
        "\n",
        "# Calcular la probabilidad de que todos los pacientes sufran la enfermedad\n",
        "probabilidad_todos_enfermos = binom.pmf(X, num_pacientes, probabilidad_exito)\n",
        "\n",
        "print(\"La probabilidad de que todos los pacientes sufran la enfermedad es:\" , probabilidad_todos_enfermos)"
      ]
    },
    {
      "cell_type": "markdown",
      "source": [
        "Ejercicio 2\n",
        "Para una varible aleatoria binomial con n= 10 y una probabilidad de 0.10\n",
        "Encontrar la probabilidad de la varibale alaeatoria x = 2. Realizar un programa en python que resuelva el problema usando una distribución de probabilidad binomia"
      ],
      "metadata": {
        "id": "toFENrPZIgvN"
      }
    },
    {
      "cell_type": "code",
      "source": [
        "from scipy.stats import binom\n",
        "\n",
        "# Parámetros de la distrubición binomial\n",
        "n = 10\n",
        "p = 0.10\n",
        "x = 2\n",
        "\n",
        "# Calcular la probabilidad de la variable aleatoria X = 2\n",
        "probabilidad_x_2 = binom.pmf(x, n, p)\n",
        "\n",
        "print(\"La probabilidad de que la variable aleatoria X sea igual a 2 es:\" , probabilidad_x_2)"
      ],
      "metadata": {
        "id": "FLi-AD0Oy1XB",
        "colab": {
          "base_uri": "https://localhost:8080/"
        },
        "outputId": "5da4bc40-4e1f-4419-d1fc-36773dd57a86"
      },
      "execution_count": 4,
      "outputs": [
        {
          "output_type": "stream",
          "name": "stdout",
          "text": [
            "La probabilidad de que la variable aleatoria X sea igual a 2 es: 0.19371024450000007\n"
          ]
        }
      ]
    },
    {
      "cell_type": "markdown",
      "source": [
        "Ejercicio 3\n",
        "Para una varible aleatoria binomial con n= 10 y una probabilidad de 0.10\n",
        "Calcular las probabilidades para cada valoe de x = 0 hasta 10\n",
        "Imprimir la tabla de valor de x y sus probabilidades\n",
        "Graficar el histograma de la distribución binomial"
      ],
      "metadata": {
        "id": "rovXEZT4IqH-"
      }
    },
    {
      "cell_type": "code",
      "source": [
        "import numpy as np\n",
        "import matplotlib.pyplot as plt\n",
        "from scipy.stats import binom\n",
        "\n",
        "# Parámetros de la distribución binomial\n",
        "n = 10\n",
        "p = 0.10\n",
        "\n",
        "# Calcular las probabilidades para cada valoe de x = 0 hasta 10\n",
        "valores_x = np.arange(0, n+1)\n",
        "probabilidades_x = [binom.pmf(x, n, p) for x in valores_x]\n",
        "\n",
        "# Imprimir la tabla de valores de x y sus probabilidades\n",
        "print(\"Valores de x\\tProbabilidades\")\n",
        "for x, probabilidad in zip(valores_x, probabilidades_x):\n",
        "    print(f\"{x}\\t\\t{probabilidad}\")"
      ],
      "metadata": {
        "colab": {
          "base_uri": "https://localhost:8080/"
        },
        "id": "IeU6Z9ttG1hW",
        "outputId": "24a62570-3e52-43a4-d551-87ec3309b23d"
      },
      "execution_count": 5,
      "outputs": [
        {
          "output_type": "stream",
          "name": "stdout",
          "text": [
            "Valores de x\tProbabilidades\n",
            "0\t\t0.34867844009999993\n",
            "1\t\t0.38742048899999965\n",
            "2\t\t0.19371024450000007\n",
            "3\t\t0.05739562799999998\n",
            "4\t\t0.01116026100000001\n",
            "5\t\t0.0014880347999999995\n",
            "6\t\t0.00013778100000000007\n",
            "7\t\t8.748000000000003e-06\n",
            "8\t\t3.6449999999999996e-07\n",
            "9\t\t8.999999999999995e-09\n",
            "10\t\t1.0000000000000006e-10\n"
          ]
        }
      ]
    },
    {
      "cell_type": "code",
      "source": [
        "## Graficar el histograma de la distribución binomial\n",
        "plt.figure(figsize=(8, 6))\n",
        "plt.bar(valores_x, probabilidades_x, color='skyblue')\n",
        "plt.xlabel('Valores de x')\n",
        "plt.ylabel('Probabilidades')\n",
        "plt.title('Distribución Binomial')\n",
        "plt.xticks(valores_x)\n",
        "plt.grid(True)\n",
        "plt.show()"
      ],
      "metadata": {
        "colab": {
          "base_uri": "https://localhost:8080/",
          "height": 564
        },
        "id": "b3tyTSFfGEkZ",
        "outputId": "be291434-f052-48fb-e3fc-038baf07037c"
      },
      "execution_count": 6,
      "outputs": [
        {
          "output_type": "display_data",
          "data": {
            "text/plain": [
              "<Figure size 800x600 with 1 Axes>"
            ],
            "image/png": "[encoded data removed]"
          },
          "metadata": {}
        }
      ]
    },
    {
      "cell_type": "code",
      "source": [
        "#Graficar Hostograma\n",
        "plt.figure(figsize=(6,4))\n",
        "plt.hist(datos, bins=15, alpha=0.4, density=True, color='b')\n",
        "\n",
        "plt.title('Distribucion normal')\n",
        "plt.xlabel('Peso (kg)De los estudiantes')\n",
        "plt.grid(True)\n",
        "plt.show()"
      ],
      "metadata": {
        "colab": {
          "base_uri": "https://localhost:8080/",
          "height": 410
        },
        "id": "bvX4hAlXllbo",
        "outputId": "86c1483b-e119-4303-9b98-e167359fddcd"
      },
      "execution_count": null,
      "outputs": [
        {
          "output_type": "display_data",
          "data": {
            "text/plain": [
              "<Figure size 600x400 with 1 Axes>"
            ],
            "image/png": "[encoded data removed]"
          },
          "metadata": {}
        }
      ]
    }
  ]
}