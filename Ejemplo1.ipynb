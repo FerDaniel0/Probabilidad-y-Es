{
  "nbformat": 4,
  "nbformat_minor": 0,
  "metadata": {
    "colab": {
      "provenance": [],
      "authorship_tag": "ABX9TyNX6vga6BFfptqdtZIQmKkQ",
      "include_colab_link": true
    },
    "kernelspec": {
      "name": "python3",
      "display_name": "Python 3"
    },
    "language_info": {
      "name": "python"
    }
  },
  "cells": [
    {
      "cell_type": "markdown",
      "metadata": {
        "id": "view-in-github",
        "colab_type": "text"
      },
      "source": [
        "<a href=\"https://colab.research.google.com/github/FerDaniel0/Probabilidad-y-Es/blob/main/Ejemplo1.ipynb\" target=\"_parent\"><img src=\"https://colab.research.google.com/assets/colab-badge.svg\" alt=\"Open In Colab\"/></a>"
      ]
    },
    {
      "cell_type": "markdown",
      "source": [
        "#"
      ],
      "metadata": {
        "id": "exgNvt1gVYtH"
      }
    },
    {
      "cell_type": "code",
      "execution_count": 4,
      "metadata": {
        "id": "FUeY4ST4TKW1"
      },
      "outputs": [],
      "source": [
        "from statistics import *"
      ]
    },
    {
      "cell_type": "code",
      "source": [
        "grupoa =[70, 70, 65, 90, 100, 95, 45, 80, 73, 20, 100, 96,]\n",
        "print(grupoa)"
      ],
      "metadata": {
        "colab": {
          "base_uri": "https://localhost:8080/"
        },
        "id": "c-0dY_1CTlSg",
        "outputId": "71279eb0-2eb5-48b8-98a7-2bf7aad75986"
      },
      "execution_count": 1,
      "outputs": [
        {
          "output_type": "stream",
          "name": "stdout",
          "text": [
            "[70, 70, 65, 90, 100, 95, 45, 80, 73, 20, 100, 96]\n"
          ]
        }
      ]
    },
    {
      "cell_type": "code",
      "source": [
        "type(grupoa)"
      ],
      "metadata": {
        "colab": {
          "base_uri": "https://localhost:8080/"
        },
        "id": "65DqBitPUPlq",
        "outputId": "ee415791-eb96-498e-8d9c-28366d58f6cb"
      },
      "execution_count": 5,
      "outputs": [
        {
          "output_type": "execute_result",
          "data": {
            "text/plain": [
              "list"
            ]
          },
          "metadata": {},
          "execution_count": 5
        }
      ]
    },
    {
      "cell_type": "code",
      "source": [
        "promedio = sum(grupoa)/len(grupoa)\n",
        "print(promedio)"
      ],
      "metadata": {
        "colab": {
          "base_uri": "https://localhost:8080/"
        },
        "id": "ZOeIBhtmUZQ-",
        "outputId": "3ebdd961-4ea3-427d-9698-3cb8b54c127f"
      },
      "execution_count": 7,
      "outputs": [
        {
          "output_type": "stream",
          "name": "stdout",
          "text": [
            "75.33333333333333\n"
          ]
        }
      ]
    },
    {
      "cell_type": "code",
      "source": [
        "mediana = median(grupoa)\n",
        "print(mediana)"
      ],
      "metadata": {
        "colab": {
          "base_uri": "https://localhost:8080/"
        },
        "id": "0njYKIljVB8n",
        "outputId": "1c25990a-4aba-4310-c498-48e332b035ac"
      },
      "execution_count": 10,
      "outputs": [
        {
          "output_type": "stream",
          "name": "stdout",
          "text": [
            "76.5\n"
          ]
        }
      ]
    },
    {
      "cell_type": "code",
      "source": [
        "moda = mode(grupoa)\n",
        "print(moda)"
      ],
      "metadata": {
        "colab": {
          "base_uri": "https://localhost:8080/"
        },
        "id": "ijkco1HtWxLQ",
        "outputId": "0eaefec2-b2ca-4783-e59d-76f41b706e52"
      },
      "execution_count": 12,
      "outputs": [
        {
          "output_type": "stream",
          "name": "stdout",
          "text": [
            "70\n"
          ]
        }
      ]
    },
    {
      "cell_type": "code",
      "source": [
        "moda2 = multimode(grupoa)\n",
        "print(moda2)"
      ],
      "metadata": {
        "colab": {
          "base_uri": "https://localhost:8080/"
        },
        "id": "CIUYTzxgXxfl",
        "outputId": "422a0e72-6e78-4947-c942-85abc28d74af"
      },
      "execution_count": 13,
      "outputs": [
        {
          "output_type": "stream",
          "name": "stdout",
          "text": [
            "[70, 100]\n"
          ]
        }
      ]
    },
    {
      "cell_type": "code",
      "source": [
        "tiempos100mts = [15.10, 17.20, 14.69, 13.27,22.15, 18.71, 19.15, 20.65, 15.10, 17.20]\n",
        "print(tiempos100mts)"
      ],
      "metadata": {
        "colab": {
          "base_uri": "https://localhost:8080/"
        },
        "id": "-dDz36iWYb4m",
        "outputId": "cd7d04a0-7973-45b2-e55c-7b7d87125b40"
      },
      "execution_count": 14,
      "outputs": [
        {
          "output_type": "stream",
          "name": "stdout",
          "text": [
            "[15.1, 17.2, 14.69, 13.27, 22.15, 18.71, 19.15, 20.65, 15.1, 17.2]\n"
          ]
        }
      ]
    },
    {
      "cell_type": "code",
      "source": [
        "promedio = sum(tiempos100mts)/len(tiempos100mts)\n",
        "print(\"El prmedio de los corredores es de \",promedio)\n"
      ],
      "metadata": {
        "colab": {
          "base_uri": "https://localhost:8080/"
        },
        "id": "PK9gvFhbZBrz",
        "outputId": "f12239e9-f465-4725-dd08-357e1230d810"
      },
      "execution_count": 24,
      "outputs": [
        {
          "output_type": "stream",
          "name": "stdout",
          "text": [
            "El prmedio de los corredores es de  17.322\n"
          ]
        }
      ]
    },
    {
      "cell_type": "code",
      "source": [
        "\n",
        "print(\"La mediana de los corredores es de =>\",mean(tiempos100mts))"
      ],
      "metadata": {
        "colab": {
          "base_uri": "https://localhost:8080/"
        },
        "id": "Yxsifho3ZGQN",
        "outputId": "31dface1-f3fd-4665-b76d-bca2c3578622"
      },
      "execution_count": 23,
      "outputs": [
        {
          "output_type": "stream",
          "name": "stdout",
          "text": [
            "La mediana de los corredores es de => 17.322\n"
          ]
        }
      ]
    },
    {
      "cell_type": "code",
      "source": [
        "moda = mode(tiempos100mts)\n",
        "print(\"La moda de los corredores es de \",moda)"
      ],
      "metadata": {
        "colab": {
          "base_uri": "https://localhost:8080/"
        },
        "id": "j5h78zfIZMWX",
        "outputId": "0f50b093-c21c-4ed3-9ecf-570036c5b3e4"
      },
      "execution_count": 25,
      "outputs": [
        {
          "output_type": "stream",
          "name": "stdout",
          "text": [
            "La moda de los corredores es de  15.1\n"
          ]
        }
      ]
    },
    {
      "cell_type": "code",
      "source": [
        "mode2 = multimode(tiempos100mts)\n",
        "print(\"La moda mas repletibles son\",mode2)"
      ],
      "metadata": {
        "colab": {
          "base_uri": "https://localhost:8080/"
        },
        "id": "nDvQpI9mZUPc",
        "outputId": "efcfac91-52d4-4ad7-9ef6-909f45312fb5"
      },
      "execution_count": 26,
      "outputs": [
        {
          "output_type": "stream",
          "name": "stdout",
          "text": [
            "La moda mas repletibles son [15.1, 17.2]\n"
          ]
        }
      ]
    },
    {
      "cell_type": "code",
      "source": [
        "import random"
      ],
      "metadata": {
        "id": "dlF9NyZ5bP5j"
      },
      "execution_count": 27,
      "outputs": []
    },
    {
      "cell_type": "code",
      "source": [
        "fabrica1 = []\n",
        "for i in range(100):\n",
        "    numero_aleatorio = round( random.uniform(50, 100), 2)\n",
        "    fabrica1.append(numero_aleatorio)\n",
        "print(fabrica1)"
      ],
      "metadata": {
        "colab": {
          "base_uri": "https://localhost:8080/"
        },
        "id": "wNUZN8I2btY1",
        "outputId": "d7686d00-f46e-4abc-bbe0-c531db2340a5"
      },
      "execution_count": 30,
      "outputs": [
        {
          "output_type": "stream",
          "name": "stdout",
          "text": [
            "[70.75, 65.29, 59.84, 75.22, 90.56, 60.41, 69.78, 56.06, 94.88, 91.84, 59.67, 67.17, 57.04, 77.91, 93.47, 69.66, 63.03, 65.2, 88.72, 69.26, 56.07, 86.69, 50.98, 95.72, 65.72, 87.05, 93.92, 51.86, 58.09, 79.42, 95.46, 97.42, 58.62, 53.11, 67.27, 52.12, 65.35, 55.51, 88.78, 70.51, 69.78, 82.38, 87.43, 60.28, 95.25, 94.78, 59.92, 63.32, 91.3, 50.99, 75.44, 96.52, 83.96, 84.32, 65.97, 91.68, 75.75, 88.12, 97.58, 86.01, 70.77, 78.22, 50.23, 62.04, 69.45, 83.68, 82.62, 71.45, 58.18, 51.64, 58.97, 91.54, 60.39, 80.63, 53.35, 91.69, 89.56, 75.09, 50.13, 72.09, 56.63, 95.17, 66.62, 83.73, 99.24, 74.53, 82.18, 70.7, 91.89, 72.23, 96.67, 96.44, 87.11, 67.63, 89.27, 56.97, 77.52, 72.41, 51.33, 96.84]\n"
          ]
        }
      ]
    },
    {
      "cell_type": "code",
      "source": [
        "fabrica2 = []\n",
        "for i in range(100):\n",
        "    numero_aleatorio = round( random.uniform(50, 100), 2)\n",
        "    fabrica2.append(numero_aleatorio)\n",
        "print(fabrica2)\n"
      ],
      "metadata": {
        "colab": {
          "base_uri": "https://localhost:8080/"
        },
        "id": "gwGbdxrHdvon",
        "outputId": "1d0d7f74-ddfa-4141-dfa8-81151f42ee79"
      },
      "execution_count": 31,
      "outputs": [
        {
          "output_type": "stream",
          "name": "stdout",
          "text": [
            "[54.88, 93.19, 87.2, 71.82, 99.52, 74.59, 51.19, 75.94, 75.2, 54.63, 96.15, 92.27, 56.59, 70.65, 50.58, 76.4, 79.99, 92.61, 62.24, 94.46, 52.03, 56.6, 53.46, 56.55, 67.59, 70.41, 55.15, 78.16, 96.44, 64.82, 51.48, 71.11, 79.05, 76.2, 87.16, 96.5, 70.04, 95.67, 56.77, 87.5, 63.1, 86.45, 94.67, 64.9, 90.19, 84.9, 70.21, 80.53, 54.32, 52.75, 81.46, 72.16, 69.75, 82.18, 94.14, 87.23, 97.06, 80.56, 61.26, 62.7, 76.67, 78.26, 68.6, 88.64, 64.55, 52.34, 54.8, 90.56, 67.74, 75.59, 83.3, 79.99, 51.93, 56.14, 66.32, 56.7, 85.92, 73.04, 65.73, 82.87, 76.56, 91.17, 69.25, 53.52, 55.86, 82.48, 71.48, 82.53, 70.45, 63.45, 72.99, 88.95, 75.49, 98.07, 70.19, 80.52, 82.74, 72.44, 58.51, 71.21]\n"
          ]
        }
      ]
    },
    {
      "cell_type": "code",
      "source": [
        "import matplotlib.pyplot as plt"
      ],
      "metadata": {
        "id": "tiR3LlWTd0gL"
      },
      "execution_count": 32,
      "outputs": []
    },
    {
      "cell_type": "code",
      "source": [
        "plt.hist(fabrica1)\n",
        "plt.title(\"Produccion diaria de a fabrica\")"
      ],
      "metadata": {
        "colab": {
          "base_uri": "https://localhost:8080/",
          "height": 469
        },
        "id": "k-AUh6e8d25z",
        "outputId": "ba6a03bf-394b-4c3b-8b01-871d63fb9ee6"
      },
      "execution_count": 33,
      "outputs": [
        {
          "output_type": "execute_result",
          "data": {
            "text/plain": [
              "Text(0.5, 1.0, 'Produccion diaria de a fabrica')"
            ]
          },
          "metadata": {},
          "execution_count": 33
        },
        {
          "output_type": "display_data",
          "data": {
            "text/plain": [
              "<Figure size 640x480 with 1 Axes>"
            ],
            "image/png": "[encoded data removed]"
          },
          "metadata": {}
        }
      ]
    },
    {
      "cell_type": "code",
      "source": [],
      "metadata": {
        "id": "GOVtr-B-eJIr"
      },
      "execution_count": null,
      "outputs": []
    }
  ]
}