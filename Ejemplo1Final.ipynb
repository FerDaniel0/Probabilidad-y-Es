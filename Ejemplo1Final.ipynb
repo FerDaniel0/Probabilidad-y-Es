{
  "nbformat": 4,
  "nbformat_minor": 0,
  "metadata": {
    "colab": {
      "provenance": [],
      "authorship_tag": "ABX9TyMJUmuGsWasWsEd4F2YI8jX",
      "include_colab_link": true
    },
    "kernelspec": {
      "name": "python3",
      "display_name": "Python 3"
    },
    "language_info": {
      "name": "python"
    }
  },
  "cells": [
    {
      "cell_type": "markdown",
      "metadata": {
        "id": "view-in-github",
        "colab_type": "text"
      },
      "source": [
        "<a href=\"https://colab.research.google.com/github/FerDaniel0/Probabilidad-y-Es/blob/main/Ejemplo1Final.ipynb\" target=\"_parent\"><img src=\"https://colab.research.google.com/assets/colab-badge.svg\" alt=\"Open In Colab\"/></a>"
      ]
    },
    {
      "cell_type": "markdown",
      "source": [
        "#"
      ],
      "metadata": {
        "id": "exgNvt1gVYtH"
      }
    },
    {
      "cell_type": "code",
      "execution_count": 28,
      "metadata": {
        "id": "FUeY4ST4TKW1"
      },
      "outputs": [],
      "source": [
        "from statistics import *"
      ]
    },
    {
      "cell_type": "code",
      "source": [
        "grupoa =[70, 70, 65, 90, 100, 95, 45, 80, 73, 20, 100, 96,]\n",
        "print(grupoa)"
      ],
      "metadata": {
        "colab": {
          "base_uri": "https://localhost:8080/"
        },
        "id": "c-0dY_1CTlSg",
        "outputId": "c5adc9a5-59fb-408e-84c8-0fd96f618d91"
      },
      "execution_count": 29,
      "outputs": [
        {
          "output_type": "stream",
          "name": "stdout",
          "text": [
            "[70, 70, 65, 90, 100, 95, 45, 80, 73, 20, 100, 96]\n"
          ]
        }
      ]
    },
    {
      "cell_type": "code",
      "source": [
        "type(grupoa)"
      ],
      "metadata": {
        "colab": {
          "base_uri": "https://localhost:8080/"
        },
        "id": "65DqBitPUPlq",
        "outputId": "09555d28-debe-4e0b-bfce-1e62a2db9100"
      },
      "execution_count": 30,
      "outputs": [
        {
          "output_type": "execute_result",
          "data": {
            "text/plain": [
              "list"
            ]
          },
          "metadata": {},
          "execution_count": 30
        }
      ]
    },
    {
      "cell_type": "code",
      "source": [
        "promedio = sum(grupoa)/len(grupoa)\n",
        "print(promedio)"
      ],
      "metadata": {
        "colab": {
          "base_uri": "https://localhost:8080/"
        },
        "id": "ZOeIBhtmUZQ-",
        "outputId": "c758bf34-29a6-4bad-83ac-d726286f158d"
      },
      "execution_count": 31,
      "outputs": [
        {
          "output_type": "stream",
          "name": "stdout",
          "text": [
            "75.33333333333333\n"
          ]
        }
      ]
    },
    {
      "cell_type": "code",
      "source": [
        "mediana = median(grupoa)\n",
        "print(mediana)"
      ],
      "metadata": {
        "colab": {
          "base_uri": "https://localhost:8080/"
        },
        "id": "0njYKIljVB8n",
        "outputId": "242bc2ff-0218-4d52-fa6c-cfee801a8327"
      },
      "execution_count": 32,
      "outputs": [
        {
          "output_type": "stream",
          "name": "stdout",
          "text": [
            "76.5\n"
          ]
        }
      ]
    },
    {
      "cell_type": "code",
      "source": [
        "moda = mode(grupoa)\n",
        "print(moda)"
      ],
      "metadata": {
        "colab": {
          "base_uri": "https://localhost:8080/"
        },
        "id": "ijkco1HtWxLQ",
        "outputId": "ccddaa04-852e-4003-c750-b5d932ae871a"
      },
      "execution_count": 33,
      "outputs": [
        {
          "output_type": "stream",
          "name": "stdout",
          "text": [
            "70\n"
          ]
        }
      ]
    },
    {
      "cell_type": "code",
      "source": [
        "moda2 = multimode(grupoa)\n",
        "print(moda2)"
      ],
      "metadata": {
        "colab": {
          "base_uri": "https://localhost:8080/"
        },
        "id": "CIUYTzxgXxfl",
        "outputId": "04d51edb-e97f-43d4-c7db-b01cfaa221b4"
      },
      "execution_count": 34,
      "outputs": [
        {
          "output_type": "stream",
          "name": "stdout",
          "text": [
            "[70, 100]\n"
          ]
        }
      ]
    },
    {
      "cell_type": "code",
      "source": [
        "tiempos100mts = [15.10, 17.20, 14.69, 13.27,22.15, 18.71, 19.15, 20.65, 15.10, 17.20]\n",
        "print(tiempos100mts)"
      ],
      "metadata": {
        "colab": {
          "base_uri": "https://localhost:8080/"
        },
        "id": "-dDz36iWYb4m",
        "outputId": "bc967f01-095e-42d2-c9b0-b7a912ca5408"
      },
      "execution_count": 35,
      "outputs": [
        {
          "output_type": "stream",
          "name": "stdout",
          "text": [
            "[15.1, 17.2, 14.69, 13.27, 22.15, 18.71, 19.15, 20.65, 15.1, 17.2]\n"
          ]
        }
      ]
    },
    {
      "cell_type": "code",
      "source": [
        "promedio = sum(tiempos100mts)/len(tiempos100mts)\n",
        "print(\"El prmedio de los corredores es de \",promedio)\n"
      ],
      "metadata": {
        "colab": {
          "base_uri": "https://localhost:8080/"
        },
        "id": "PK9gvFhbZBrz",
        "outputId": "15b05de2-484e-434b-e4e1-f37b39d44279"
      },
      "execution_count": 36,
      "outputs": [
        {
          "output_type": "stream",
          "name": "stdout",
          "text": [
            "El prmedio de los corredores es de  17.322\n"
          ]
        }
      ]
    },
    {
      "cell_type": "code",
      "source": [
        "\n",
        "print(\"La mediana de los corredores es de =>\",mean(tiempos100mts))"
      ],
      "metadata": {
        "colab": {
          "base_uri": "https://localhost:8080/"
        },
        "id": "Yxsifho3ZGQN",
        "outputId": "7806ff8b-0367-4673-a85f-e828fc0a7d43"
      },
      "execution_count": 37,
      "outputs": [
        {
          "output_type": "stream",
          "name": "stdout",
          "text": [
            "La mediana de los corredores es de => 17.322\n"
          ]
        }
      ]
    },
    {
      "cell_type": "code",
      "source": [
        "moda = mode(tiempos100mts)\n",
        "print(\"La moda de los corredores es de \",moda)"
      ],
      "metadata": {
        "colab": {
          "base_uri": "https://localhost:8080/"
        },
        "id": "j5h78zfIZMWX",
        "outputId": "c8c09768-35de-4e90-d822-9a6d8f3e0508"
      },
      "execution_count": 38,
      "outputs": [
        {
          "output_type": "stream",
          "name": "stdout",
          "text": [
            "La moda de los corredores es de  15.1\n"
          ]
        }
      ]
    },
    {
      "cell_type": "code",
      "source": [
        "mode2 = multimode(tiempos100mts)\n",
        "print(\"La moda mas repletibles son\",mode2)"
      ],
      "metadata": {
        "colab": {
          "base_uri": "https://localhost:8080/"
        },
        "id": "nDvQpI9mZUPc",
        "outputId": "9962c280-1beb-4b44-e707-19291b00ce26"
      },
      "execution_count": 39,
      "outputs": [
        {
          "output_type": "stream",
          "name": "stdout",
          "text": [
            "La moda mas repletibles son [15.1, 17.2]\n"
          ]
        }
      ]
    },
    {
      "cell_type": "code",
      "source": [
        "import random"
      ],
      "metadata": {
        "id": "dlF9NyZ5bP5j"
      },
      "execution_count": 40,
      "outputs": []
    },
    {
      "cell_type": "code",
      "source": [
        "fabrica1 = []\n",
        "for i in range(100):\n",
        "    numero_aleatorio = round( random.uniform(50, 100), 2)\n",
        "    fabrica1.append(numero_aleatorio)\n",
        "print(fabrica1)"
      ],
      "metadata": {
        "colab": {
          "base_uri": "https://localhost:8080/"
        },
        "id": "wNUZN8I2btY1",
        "outputId": "0f9821ad-17ec-4b22-8d5a-4d405de19f74"
      },
      "execution_count": 41,
      "outputs": [
        {
          "output_type": "stream",
          "name": "stdout",
          "text": [
            "[66.29, 57.7, 62.77, 77.48, 60.21, 98.76, 80.61, 51.19, 90.95, 96.37, 63.36, 50.12, 84.89, 92.76, 95.89, 65.27, 80.02, 62.72, 85.62, 57.83, 96.71, 86.43, 85.92, 56.72, 78.25, 72.3, 59.03, 99.98, 80.84, 95.64, 82.43, 87.26, 75.81, 77.03, 86.47, 85.52, 54.13, 71.82, 63.91, 81.56, 84.49, 94.06, 50.99, 72.44, 96.36, 61.9, 77.35, 89.15, 66.59, 50.93, 73.88, 85.99, 85.35, 79.18, 94.41, 68.84, 51.81, 79.14, 74.5, 92.3, 92.28, 86.63, 94.74, 56.01, 84.9, 55.56, 53.09, 54.99, 79.01, 94.25, 93.26, 98.49, 73.9, 94.75, 77.84, 85.23, 98.19, 61.61, 70.2, 87.67, 81.76, 59.97, 84.6, 61.59, 52.02, 70.28, 92.55, 76.51, 76.12, 67.46, 59.14, 79.37, 80.99, 55.01, 63.86, 94.64, 88.95, 65.12, 73.54, 77.86]\n"
          ]
        }
      ]
    },
    {
      "cell_type": "code",
      "source": [
        "fabrica2 = []\n",
        "for i in range(100):\n",
        "    numero_aleatorio = round( random.uniform(50, 100), 2)\n",
        "    fabrica2.append(numero_aleatorio)\n",
        "print(fabrica2)\n"
      ],
      "metadata": {
        "colab": {
          "base_uri": "https://localhost:8080/"
        },
        "id": "gwGbdxrHdvon",
        "outputId": "6c2abe90-2154-489e-9c8a-79dca306c701"
      },
      "execution_count": 42,
      "outputs": [
        {
          "output_type": "stream",
          "name": "stdout",
          "text": [
            "[93.37, 92.07, 51.56, 89.81, 99.79, 60.73, 97.85, 56.41, 67.21, 80.27, 73.58, 85.68, 70.4, 61.29, 50.5, 92.93, 86.2, 83.94, 59.86, 99.76, 87.45, 67.92, 79.99, 98.71, 87.25, 78.42, 54.3, 76.83, 97.38, 93.49, 89.22, 85.0, 52.86, 94.26, 87.42, 97.71, 84.47, 57.34, 77.46, 56.76, 68.51, 94.45, 64.55, 79.15, 70.49, 82.68, 60.37, 65.95, 70.78, 93.61, 64.57, 55.11, 50.68, 80.18, 60.97, 94.29, 53.32, 58.95, 89.6, 65.47, 71.86, 61.06, 84.04, 80.63, 86.37, 73.18, 61.68, 58.68, 50.61, 97.69, 51.55, 56.61, 60.49, 65.73, 98.93, 62.63, 51.06, 52.19, 55.09, 92.44, 78.17, 55.14, 58.32, 95.7, 67.36, 65.48, 59.51, 86.85, 87.96, 96.69, 89.9, 79.98, 97.39, 63.77, 79.92, 80.21, 54.94, 61.39, 74.72, 55.13]\n"
          ]
        }
      ]
    },
    {
      "cell_type": "code",
      "source": [
        "import matplotlib.pyplot as plt\n",
        "import numpy as np"
      ],
      "metadata": {
        "id": "tiR3LlWTd0gL"
      },
      "execution_count": 60,
      "outputs": []
    },
    {
      "cell_type": "code",
      "source": [
        "plt.hist(fabrica1)\n",
        "plt.title(\"Produccion diaria de a fabrica\")"
      ],
      "metadata": {
        "colab": {
          "base_uri": "https://localhost:8080/",
          "height": 469
        },
        "id": "k-AUh6e8d25z",
        "outputId": "d2aaf04d-5512-459a-8163-dd3306370f88"
      },
      "execution_count": 44,
      "outputs": [
        {
          "output_type": "execute_result",
          "data": {
            "text/plain": [
              "Text(0.5, 1.0, 'Produccion diaria de a fabrica')"
            ]
          },
          "metadata": {},
          "execution_count": 44
        },
        {
          "output_type": "display_data",
          "data": {
            "text/plain": [
              "<Figure size 640x480 with 1 Axes>"
            ],
            "image/png": "[encoded data removed]"
          },
          "metadata": {}
        }
      ]
    },
    {
      "cell_type": "code",
      "source": [
        "plt.hist(fabrica2)\n",
        "plt.title(\"Produccion diaria de la fabrica2\")"
      ],
      "metadata": {
        "id": "GOVtr-B-eJIr",
        "colab": {
          "base_uri": "https://localhost:8080/",
          "height": 469
        },
        "outputId": "b220e1cf-315a-4a82-cf46-106414bd9f57"
      },
      "execution_count": 45,
      "outputs": [
        {
          "output_type": "execute_result",
          "data": {
            "text/plain": [
              "Text(0.5, 1.0, 'Produccion diaria de la fabrica2')"
            ]
          },
          "metadata": {},
          "execution_count": 45
        },
        {
          "output_type": "display_data",
          "data": {
            "text/plain": [
              "<Figure size 640x480 with 1 Axes>"
            ],
            "image/png": "[encoded data removed]"
          },
          "metadata": {}
        }
      ]
    },
    {
      "cell_type": "code",
      "source": [
        "media1 = mean(fabrica1)\n",
        "mediana1 = median(fabrica1)\n",
        "moda1 = mode(fabrica1)\n",
        "\n",
        "print(\"Valores de la fabrica 1\")\n",
        "print(\"La media de la fabrica 1 es de \",media1)\n",
        "print(\"La mediana de la fabrica 1 es de \",mediana1)\n",
        "print(\"La moda de la fabrica 1 es de \",moda1)"
      ],
      "metadata": {
        "colab": {
          "base_uri": "https://localhost:8080/"
        },
        "id": "JM0V2Lnfk0_l",
        "outputId": "8794fcec-7b8e-4af0-d708-69d8d1d30810"
      },
      "execution_count": 62,
      "outputs": [
        {
          "output_type": "stream",
          "name": "stdout",
          "text": [
            "Valores de la fabrica 1\n",
            "La media de la fabrica 1 es de  76.4217\n",
            "La mediana de la fabrica 1 es de  78.055\n",
            "La moda de la fabrica 1 es de  66.29\n"
          ]
        }
      ]
    },
    {
      "cell_type": "code",
      "source": [
        "media2 = mean(fabrica2)\n",
        "mediana2 = median(fabrica2)\n",
        "moda2 = mode(fabrica2)\n",
        "\n",
        "print(\"Valores de la fabrica 2\")\n",
        "print(\"La media de la fabrica 2 es de \",media2)\n",
        "print(\"La mediana de la fabrica 2 es de \",mediana2)\n",
        "print(\"La moda de la fabrica 2 es de \",moda2)"
      ],
      "metadata": {
        "colab": {
          "base_uri": "https://localhost:8080/"
        },
        "id": "EFmmyDYafD0X",
        "outputId": "96574e05-aa78-40bb-f753-955d9ba3f0c4"
      },
      "execution_count": 46,
      "outputs": [
        {
          "output_type": "stream",
          "name": "stdout",
          "text": [
            "Valores de la fabrica 2\n",
            "La media de la fabrica 2 es de  74.4218\n",
            "La mediana de la fabrica 2 es de  74.15\n",
            "La moda de la fabrica 2 es de  93.37\n"
          ]
        }
      ]
    },
    {
      "cell_type": "code",
      "source": [
        "fig, (ax1, ax2) = plt.subplots(nrows=1, ncols=2, figsize=(10, 5))\n",
        "ax1.hist(fabrica1)\n",
        "ax2.hist(fabrica2)\n",
        "plt.show()"
      ],
      "metadata": {
        "colab": {
          "base_uri": "https://localhost:8080/",
          "height": 445
        },
        "id": "n8tNk9G5ffik",
        "outputId": "8aa58a6f-5b7e-4f7d-e0e1-393a7aeec68a"
      },
      "execution_count": 47,
      "outputs": [
        {
          "output_type": "display_data",
          "data": {
            "text/plain": [
              "<Figure size 1000x500 with 2 Axes>"
            ],
            "image/png": "[encoded data removed]"
          },
          "metadata": {}
        }
      ]
    },
    {
      "cell_type": "code",
      "source": [
        "plt.hist(fabrica1, bins=10, alpha=0.2, color='blue', edgecolor='black')\n",
        "plt.axvline(media1, color='red', linestyle='dashed', linewidth=2, label='Media')\n",
        "plt.axvline(mediana1, color='green', linestyle='dashed', linewidth=2, label='Mediana')\n",
        "plt.axvline(moda1, color='yellow', linestyle='dashed', linewidth=2, label='Moda')\n",
        "plt.xlabel('Valores')\n",
        "plt.ylabel('Frecuencia')\n",
        "plt.title('produccion diaria de la fabrica 1')\n",
        "plt.legend()\n",
        "plt.show()"
      ],
      "metadata": {
        "colab": {
          "base_uri": "https://localhost:8080/",
          "height": 472
        },
        "id": "Jb8VUWT_gK--",
        "outputId": "a25ea54c-75e2-42df-8a4f-4f398b0ab039"
      },
      "execution_count": 63,
      "outputs": [
        {
          "output_type": "display_data",
          "data": {
            "text/plain": [
              "<Figure size 640x480 with 1 Axes>"
            ],
            "image/png": "[encoded data removed]"
          },
          "metadata": {}
        }
      ]
    },
    {
      "cell_type": "code",
      "source": [
        "plt.hist(fabrica2, bins=10, alpha=0.2, color='blue', edgecolor='black')\n",
        "plt.axvline(media2, color='red', linestyle='dashed', linewidth=2, label='Media')\n",
        "plt.axvline(mediana2, color='green', linestyle='dashed', linewidth=2, label='Mediana')\n",
        "plt.axvline(moda2, color='yellow', linestyle='dashed', linewidth=2, label='Moda')\n",
        "plt.xlabel('Valores')\n",
        "plt.ylabel('Frecuencia')\n",
        "plt.title('produccion diaria de la fabrica 2')\n",
        "plt.legend()\n",
        "plt.show()"
      ],
      "metadata": {
        "colab": {
          "base_uri": "https://localhost:8080/",
          "height": 472
        },
        "id": "c_tOMDqdk8vf",
        "outputId": "d9f89f91-bb32-4a6f-b5c1-26a5074b0e88"
      },
      "execution_count": 64,
      "outputs": [
        {
          "output_type": "display_data",
          "data": {
            "text/plain": [
              "<Figure size 640x480 with 1 Axes>"
            ],
            "image/png": "[encoded data removed]"
          },
          "metadata": {}
        }
      ]
    }
  ]
}